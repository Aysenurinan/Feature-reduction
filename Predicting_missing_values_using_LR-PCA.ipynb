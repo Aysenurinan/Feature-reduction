{
 "cells": [
  {
   "cell_type": "code",
   "execution_count": 79,
   "metadata": {},
   "outputs": [],
   "source": [
    "%matplotlib inline\n",
    "import numpy as np\n",
    "import pandas as pd\n",
    "import matplotlib\n",
    "import matplotlib.pyplot as plt\n",
    "import scipy.stats as stats\n",
    "matplotlib.style.use('ggplot')\n",
    "from sklearn import datasets, linear_model\n",
    "import seaborn as sns\n",
    "from scipy.stats import norm\n",
    "from scipy import stats\n",
    "import warnings\n",
    "warnings.filterwarnings(\"ignore\")\n",
    "from sklearn.model_selection import train_test_split\n",
    "from sklearn.metrics import mean_squared_error\n",
    "from math import sqrt"
   ]
  },
  {
   "cell_type": "code",
   "execution_count": 80,
   "metadata": {},
   "outputs": [
    {
     "name": "stdout",
     "output_type": "stream",
     "text": [
      "(399, 9)\n"
     ]
    },
    {
     "data": {
      "text/html": [
       "<div>\n",
       "<style scoped>\n",
       "    .dataframe tbody tr th:only-of-type {\n",
       "        vertical-align: middle;\n",
       "    }\n",
       "\n",
       "    .dataframe tbody tr th {\n",
       "        vertical-align: top;\n",
       "    }\n",
       "\n",
       "    .dataframe thead th {\n",
       "        text-align: right;\n",
       "    }\n",
       "</style>\n",
       "<table border=\"1\" class=\"dataframe\">\n",
       "  <thead>\n",
       "    <tr style=\"text-align: right;\">\n",
       "      <th></th>\n",
       "      <th>mpg</th>\n",
       "      <th>cylinders</th>\n",
       "      <th>displacement</th>\n",
       "      <th>horsepower</th>\n",
       "      <th>weight</th>\n",
       "      <th>acceleration</th>\n",
       "      <th>year</th>\n",
       "      <th>origin</th>\n",
       "      <th>name</th>\n",
       "    </tr>\n",
       "  </thead>\n",
       "  <tbody>\n",
       "    <tr>\n",
       "      <th>0</th>\n",
       "      <td>Column1</td>\n",
       "      <td>Column2</td>\n",
       "      <td>Column3</td>\n",
       "      <td>Column4</td>\n",
       "      <td>Column5</td>\n",
       "      <td>Column6</td>\n",
       "      <td>Column7</td>\n",
       "      <td>Column8</td>\n",
       "      <td>Column9</td>\n",
       "    </tr>\n",
       "    <tr>\n",
       "      <th>1</th>\n",
       "      <td>18</td>\n",
       "      <td>8</td>\n",
       "      <td>307</td>\n",
       "      <td>130.0</td>\n",
       "      <td>3504</td>\n",
       "      <td>12</td>\n",
       "      <td>70</td>\n",
       "      <td>1</td>\n",
       "      <td>chevrolet chevelle malibu</td>\n",
       "    </tr>\n",
       "    <tr>\n",
       "      <th>2</th>\n",
       "      <td>15</td>\n",
       "      <td>8</td>\n",
       "      <td>350</td>\n",
       "      <td>165.0</td>\n",
       "      <td>3693</td>\n",
       "      <td>11.5</td>\n",
       "      <td>70</td>\n",
       "      <td>1</td>\n",
       "      <td>buick skylark 320</td>\n",
       "    </tr>\n",
       "    <tr>\n",
       "      <th>3</th>\n",
       "      <td>18</td>\n",
       "      <td>8</td>\n",
       "      <td>318</td>\n",
       "      <td>150.0</td>\n",
       "      <td>3436</td>\n",
       "      <td>11</td>\n",
       "      <td>70</td>\n",
       "      <td>1</td>\n",
       "      <td>plymouth satellite</td>\n",
       "    </tr>\n",
       "    <tr>\n",
       "      <th>4</th>\n",
       "      <td>16</td>\n",
       "      <td>8</td>\n",
       "      <td>304</td>\n",
       "      <td>150.0</td>\n",
       "      <td>3433</td>\n",
       "      <td>12</td>\n",
       "      <td>70</td>\n",
       "      <td>1</td>\n",
       "      <td>amc rebel sst</td>\n",
       "    </tr>\n",
       "  </tbody>\n",
       "</table>\n",
       "</div>"
      ],
      "text/plain": [
       "       mpg cylinders displacement horsepower   weight acceleration     year  \\\n",
       "0  Column1   Column2      Column3    Column4  Column5      Column6  Column7   \n",
       "1       18         8          307      130.0     3504           12       70   \n",
       "2       15         8          350      165.0     3693         11.5       70   \n",
       "3       18         8          318      150.0     3436           11       70   \n",
       "4       16         8          304      150.0     3433           12       70   \n",
       "\n",
       "    origin                       name  \n",
       "0  Column8                    Column9  \n",
       "1        1  chevrolet chevelle malibu  \n",
       "2        1          buick skylark 320  \n",
       "3        1         plymouth satellite  \n",
       "4        1              amc rebel sst  "
      ]
     },
     "execution_count": 80,
     "metadata": {},
     "output_type": "execute_result"
    }
   ],
   "source": [
    "filename = \"new_auto_mpg.csv\"\n",
    "column_names= ['mpg', 'cylinders', 'displacement', 'horsepower', 'weight', 'acceleration', 'year', 'origin', 'name']\n",
    "df = pd.read_csv (filename, names = column_names)\n",
    "\n",
    "print (df.shape)\n",
    "df.head(5)"
   ]
  },
  {
   "cell_type": "code",
   "execution_count": 81,
   "metadata": {},
   "outputs": [
    {
     "data": {
      "text/html": [
       "<div>\n",
       "<style scoped>\n",
       "    .dataframe tbody tr th:only-of-type {\n",
       "        vertical-align: middle;\n",
       "    }\n",
       "\n",
       "    .dataframe tbody tr th {\n",
       "        vertical-align: top;\n",
       "    }\n",
       "\n",
       "    .dataframe thead th {\n",
       "        text-align: right;\n",
       "    }\n",
       "</style>\n",
       "<table border=\"1\" class=\"dataframe\">\n",
       "  <thead>\n",
       "    <tr style=\"text-align: right;\">\n",
       "      <th></th>\n",
       "      <th>mpg</th>\n",
       "      <th>cylinders</th>\n",
       "      <th>displacement</th>\n",
       "      <th>horsepower</th>\n",
       "      <th>weight</th>\n",
       "      <th>acceleration</th>\n",
       "      <th>year</th>\n",
       "      <th>origin</th>\n",
       "      <th>name</th>\n",
       "    </tr>\n",
       "  </thead>\n",
       "  <tbody>\n",
       "    <tr>\n",
       "      <th>1</th>\n",
       "      <td>18</td>\n",
       "      <td>8</td>\n",
       "      <td>307</td>\n",
       "      <td>130.0</td>\n",
       "      <td>3504</td>\n",
       "      <td>12</td>\n",
       "      <td>70</td>\n",
       "      <td>1</td>\n",
       "      <td>chevrolet chevelle malibu</td>\n",
       "    </tr>\n",
       "    <tr>\n",
       "      <th>2</th>\n",
       "      <td>15</td>\n",
       "      <td>8</td>\n",
       "      <td>350</td>\n",
       "      <td>165.0</td>\n",
       "      <td>3693</td>\n",
       "      <td>11.5</td>\n",
       "      <td>70</td>\n",
       "      <td>1</td>\n",
       "      <td>buick skylark 320</td>\n",
       "    </tr>\n",
       "    <tr>\n",
       "      <th>3</th>\n",
       "      <td>18</td>\n",
       "      <td>8</td>\n",
       "      <td>318</td>\n",
       "      <td>150.0</td>\n",
       "      <td>3436</td>\n",
       "      <td>11</td>\n",
       "      <td>70</td>\n",
       "      <td>1</td>\n",
       "      <td>plymouth satellite</td>\n",
       "    </tr>\n",
       "    <tr>\n",
       "      <th>4</th>\n",
       "      <td>16</td>\n",
       "      <td>8</td>\n",
       "      <td>304</td>\n",
       "      <td>150.0</td>\n",
       "      <td>3433</td>\n",
       "      <td>12</td>\n",
       "      <td>70</td>\n",
       "      <td>1</td>\n",
       "      <td>amc rebel sst</td>\n",
       "    </tr>\n",
       "    <tr>\n",
       "      <th>5</th>\n",
       "      <td>17</td>\n",
       "      <td>8</td>\n",
       "      <td>302</td>\n",
       "      <td>140.0</td>\n",
       "      <td>3449</td>\n",
       "      <td>10.5</td>\n",
       "      <td>70</td>\n",
       "      <td>1</td>\n",
       "      <td>ford torino</td>\n",
       "    </tr>\n",
       "  </tbody>\n",
       "</table>\n",
       "</div>"
      ],
      "text/plain": [
       "  mpg cylinders displacement horsepower weight acceleration year origin  \\\n",
       "1  18         8          307      130.0   3504           12   70      1   \n",
       "2  15         8          350      165.0   3693         11.5   70      1   \n",
       "3  18         8          318      150.0   3436           11   70      1   \n",
       "4  16         8          304      150.0   3433           12   70      1   \n",
       "5  17         8          302      140.0   3449         10.5   70      1   \n",
       "\n",
       "                        name  \n",
       "1  chevrolet chevelle malibu  \n",
       "2          buick skylark 320  \n",
       "3         plymouth satellite  \n",
       "4              amc rebel sst  \n",
       "5                ford torino  "
      ]
     },
     "execution_count": 81,
     "metadata": {},
     "output_type": "execute_result"
    }
   ],
   "source": [
    "df.drop(df.head(1).index, inplace=True)\n",
    "df.head(5)"
   ]
  },
  {
   "cell_type": "code",
   "execution_count": 82,
   "metadata": {},
   "outputs": [
    {
     "data": {
      "text/plain": [
       "mpg             object\n",
       "cylinders       object\n",
       "displacement    object\n",
       "horsepower      object\n",
       "weight          object\n",
       "acceleration    object\n",
       "year            object\n",
       "origin          object\n",
       "name            object\n",
       "dtype: object"
      ]
     },
     "execution_count": 82,
     "metadata": {},
     "output_type": "execute_result"
    }
   ],
   "source": [
    "df.dtypes"
   ]
  },
  {
   "cell_type": "code",
   "execution_count": 83,
   "metadata": {},
   "outputs": [],
   "source": [
    "#Horsepower is an object not a float!"
   ]
  },
  {
   "cell_type": "code",
   "execution_count": 84,
   "metadata": {},
   "outputs": [
    {
     "data": {
      "text/plain": [
       "mpg             False\n",
       "cylinders       False\n",
       "displacement    False\n",
       "horsepower      False\n",
       "weight          False\n",
       "acceleration    False\n",
       "year            False\n",
       "origin          False\n",
       "name            False\n",
       "dtype: bool"
      ]
     },
     "execution_count": 84,
     "metadata": {},
     "output_type": "execute_result"
    }
   ],
   "source": [
    "df.isnull().any() # Nothing seems to be wrong according to the output"
   ]
  },
  {
   "cell_type": "code",
   "execution_count": 85,
   "metadata": {},
   "outputs": [
    {
     "data": {
      "text/plain": [
       "array(['130.0', '165.0', '150.0', '140.0', '198.0', '220.0', '215.0',\n",
       "       '225.0', '190.0', '170.0', '160.0', '95.00', '97.00', '85.00',\n",
       "       '88.00', '46.00', '87.00', '90.00', '113.0', '200.0', '210.0',\n",
       "       '193.0', '?', '100.0', '105.0', '175.0', '153.0', '180.0', '110.0',\n",
       "       '72.00', '86.00', '70.00', '76.00', '65.00', '69.00', '60.00',\n",
       "       '80.00', '54.00', '208.0', '155.0', '112.0', '92.00', '145.0',\n",
       "       '137.0', '158.0', '167.0', '94.00', '107.0', '230.0', '49.00',\n",
       "       '75.00', '91.00', '122.0', '67.00', '83.00', '78.00', '52.00',\n",
       "       '61.00', '93.00', '148.0', '129.0', '96.00', '71.00', '98.00',\n",
       "       '115.0', '53.00', '81.00', '79.00', '120.0', '152.0', '102.0',\n",
       "       '108.0', '68.00', '58.00', '149.0', '89.00', '63.00', '48.00',\n",
       "       '66.00', '139.0', '103.0', '125.0', '133.0', '138.0', '135.0',\n",
       "       '142.0', '77.00', '62.00', '132.0', '84.00', '64.00', '74.00',\n",
       "       '116.0', '82.00'], dtype=object)"
      ]
     },
     "execution_count": 85,
     "metadata": {},
     "output_type": "execute_result"
    }
   ],
   "source": [
    "df.horsepower.unique()"
   ]
  },
  {
   "cell_type": "code",
   "execution_count": 86,
   "metadata": {},
   "outputs": [],
   "source": [
    "#Let's remove data with \"?\""
   ]
  },
  {
   "cell_type": "code",
   "execution_count": 87,
   "metadata": {},
   "outputs": [],
   "source": [
    "df2 = df[df.horsepower != '?']"
   ]
  },
  {
   "cell_type": "code",
   "execution_count": 88,
   "metadata": {},
   "outputs": [
    {
     "name": "stdout",
     "output_type": "stream",
     "text": [
      "False\n"
     ]
    }
   ],
   "source": [
    "print('?' in df2.horsepower)"
   ]
  },
  {
   "cell_type": "code",
   "execution_count": 89,
   "metadata": {},
   "outputs": [],
   "source": [
    "df2[['mpg','cylinders','displacement','horsepower', 'weight', 'acceleration', 'year', 'origin']] = df2[['mpg','cylinders','displacement','horsepower','weight','acceleration','year','origin']].apply(pd.to_numeric)"
   ]
  },
  {
   "cell_type": "code",
   "execution_count": 90,
   "metadata": {},
   "outputs": [
    {
     "data": {
      "text/plain": [
       "mpg             float64\n",
       "cylinders         int64\n",
       "displacement    float64\n",
       "horsepower      float64\n",
       "weight            int64\n",
       "acceleration    float64\n",
       "year              int64\n",
       "origin            int64\n",
       "name             object\n",
       "dtype: object"
      ]
     },
     "execution_count": 90,
     "metadata": {},
     "output_type": "execute_result"
    }
   ],
   "source": [
    "df2.dtypes\n"
   ]
  },
  {
   "cell_type": "code",
   "execution_count": 91,
   "metadata": {},
   "outputs": [
    {
     "data": {
      "text/html": [
       "<div>\n",
       "<style scoped>\n",
       "    .dataframe tbody tr th:only-of-type {\n",
       "        vertical-align: middle;\n",
       "    }\n",
       "\n",
       "    .dataframe tbody tr th {\n",
       "        vertical-align: top;\n",
       "    }\n",
       "\n",
       "    .dataframe thead th {\n",
       "        text-align: right;\n",
       "    }\n",
       "</style>\n",
       "<table border=\"1\" class=\"dataframe\">\n",
       "  <thead>\n",
       "    <tr style=\"text-align: right;\">\n",
       "      <th></th>\n",
       "      <th>mpg</th>\n",
       "      <th>cylinders</th>\n",
       "      <th>displacement</th>\n",
       "      <th>horsepower</th>\n",
       "      <th>weight</th>\n",
       "      <th>acceleration</th>\n",
       "      <th>year</th>\n",
       "      <th>origin</th>\n",
       "    </tr>\n",
       "  </thead>\n",
       "  <tbody>\n",
       "    <tr>\n",
       "      <th>count</th>\n",
       "      <td>392.000000</td>\n",
       "      <td>392.000000</td>\n",
       "      <td>392.000000</td>\n",
       "      <td>392.000000</td>\n",
       "      <td>392.000000</td>\n",
       "      <td>392.000000</td>\n",
       "      <td>392.000000</td>\n",
       "      <td>392.000000</td>\n",
       "    </tr>\n",
       "    <tr>\n",
       "      <th>mean</th>\n",
       "      <td>23.445918</td>\n",
       "      <td>5.471939</td>\n",
       "      <td>194.411990</td>\n",
       "      <td>104.469388</td>\n",
       "      <td>2977.584184</td>\n",
       "      <td>15.541327</td>\n",
       "      <td>75.979592</td>\n",
       "      <td>1.576531</td>\n",
       "    </tr>\n",
       "    <tr>\n",
       "      <th>std</th>\n",
       "      <td>7.805007</td>\n",
       "      <td>1.705783</td>\n",
       "      <td>104.644004</td>\n",
       "      <td>38.491160</td>\n",
       "      <td>849.402560</td>\n",
       "      <td>2.758864</td>\n",
       "      <td>3.683737</td>\n",
       "      <td>0.805518</td>\n",
       "    </tr>\n",
       "    <tr>\n",
       "      <th>min</th>\n",
       "      <td>9.000000</td>\n",
       "      <td>3.000000</td>\n",
       "      <td>68.000000</td>\n",
       "      <td>46.000000</td>\n",
       "      <td>1613.000000</td>\n",
       "      <td>8.000000</td>\n",
       "      <td>70.000000</td>\n",
       "      <td>1.000000</td>\n",
       "    </tr>\n",
       "    <tr>\n",
       "      <th>25%</th>\n",
       "      <td>17.000000</td>\n",
       "      <td>4.000000</td>\n",
       "      <td>105.000000</td>\n",
       "      <td>75.000000</td>\n",
       "      <td>2225.250000</td>\n",
       "      <td>13.775000</td>\n",
       "      <td>73.000000</td>\n",
       "      <td>1.000000</td>\n",
       "    </tr>\n",
       "    <tr>\n",
       "      <th>50%</th>\n",
       "      <td>22.750000</td>\n",
       "      <td>4.000000</td>\n",
       "      <td>151.000000</td>\n",
       "      <td>93.500000</td>\n",
       "      <td>2803.500000</td>\n",
       "      <td>15.500000</td>\n",
       "      <td>76.000000</td>\n",
       "      <td>1.000000</td>\n",
       "    </tr>\n",
       "    <tr>\n",
       "      <th>75%</th>\n",
       "      <td>29.000000</td>\n",
       "      <td>8.000000</td>\n",
       "      <td>275.750000</td>\n",
       "      <td>126.000000</td>\n",
       "      <td>3614.750000</td>\n",
       "      <td>17.025000</td>\n",
       "      <td>79.000000</td>\n",
       "      <td>2.000000</td>\n",
       "    </tr>\n",
       "    <tr>\n",
       "      <th>max</th>\n",
       "      <td>46.600000</td>\n",
       "      <td>8.000000</td>\n",
       "      <td>455.000000</td>\n",
       "      <td>230.000000</td>\n",
       "      <td>5140.000000</td>\n",
       "      <td>24.800000</td>\n",
       "      <td>82.000000</td>\n",
       "      <td>3.000000</td>\n",
       "    </tr>\n",
       "  </tbody>\n",
       "</table>\n",
       "</div>"
      ],
      "text/plain": [
       "              mpg   cylinders  displacement  horsepower       weight  \\\n",
       "count  392.000000  392.000000    392.000000  392.000000   392.000000   \n",
       "mean    23.445918    5.471939    194.411990  104.469388  2977.584184   \n",
       "std      7.805007    1.705783    104.644004   38.491160   849.402560   \n",
       "min      9.000000    3.000000     68.000000   46.000000  1613.000000   \n",
       "25%     17.000000    4.000000    105.000000   75.000000  2225.250000   \n",
       "50%     22.750000    4.000000    151.000000   93.500000  2803.500000   \n",
       "75%     29.000000    8.000000    275.750000  126.000000  3614.750000   \n",
       "max     46.600000    8.000000    455.000000  230.000000  5140.000000   \n",
       "\n",
       "       acceleration        year      origin  \n",
       "count    392.000000  392.000000  392.000000  \n",
       "mean      15.541327   75.979592    1.576531  \n",
       "std        2.758864    3.683737    0.805518  \n",
       "min        8.000000   70.000000    1.000000  \n",
       "25%       13.775000   73.000000    1.000000  \n",
       "50%       15.500000   76.000000    1.000000  \n",
       "75%       17.025000   79.000000    2.000000  \n",
       "max       24.800000   82.000000    3.000000  "
      ]
     },
     "execution_count": 91,
     "metadata": {},
     "output_type": "execute_result"
    }
   ],
   "source": [
    "# Now everything looks in order.\n",
    "# Let's describe the dataset\n",
    "\n",
    "df2.describe()\n"
   ]
  },
  {
   "cell_type": "code",
   "execution_count": 92,
   "metadata": {},
   "outputs": [
    {
     "data": {
      "text/plain": [
       "count    392.000000\n",
       "mean      23.445918\n",
       "std        7.805007\n",
       "min        9.000000\n",
       "25%       17.000000\n",
       "50%       22.750000\n",
       "75%       29.000000\n",
       "max       46.600000\n",
       "Name: mpg, dtype: float64"
      ]
     },
     "execution_count": 92,
     "metadata": {},
     "output_type": "execute_result"
    }
   ],
   "source": [
    "df2.mpg.describe()\n"
   ]
  },
  {
   "cell_type": "code",
   "execution_count": 93,
   "metadata": {},
   "outputs": [
    {
     "data": {
      "image/png": "[encoded data removed]",
      "text/plain": [
       "<Figure size 864x648 with 2 Axes>"
      ]
     },
     "metadata": {},
     "output_type": "display_data"
    }
   ],
   "source": [
    "corrmat = df2.corr()\n",
    "f, ax = plt.subplots(figsize=(12, 9))\n",
    "sns.heatmap(corrmat, square=True);"
   ]
  },
  {
   "cell_type": "code",
   "execution_count": 94,
   "metadata": {},
   "outputs": [
    {
     "data": {
      "text/plain": [
       "-0.8322442148315753"
      ]
     },
     "execution_count": 94,
     "metadata": {},
     "output_type": "execute_result"
    }
   ],
   "source": [
    "df2['mpg'].corr(df2['weight'])\n"
   ]
  },
  {
   "cell_type": "code",
   "execution_count": 95,
   "metadata": {},
   "outputs": [],
   "source": [
    "# As expected, there seems to be a strong negative correlation between vehicle weight and mpg. \n",
    "# But what about horsepower or displacement? \n",
    "# We can quickly calculate correlation between all columns in a pandas dataframe. \n"
   ]
  },
  {
   "cell_type": "code",
   "execution_count": 96,
   "metadata": {},
   "outputs": [
    {
     "data": {
      "text/html": [
       "<div>\n",
       "<style scoped>\n",
       "    .dataframe tbody tr th:only-of-type {\n",
       "        vertical-align: middle;\n",
       "    }\n",
       "\n",
       "    .dataframe tbody tr th {\n",
       "        vertical-align: top;\n",
       "    }\n",
       "\n",
       "    .dataframe thead th {\n",
       "        text-align: right;\n",
       "    }\n",
       "</style>\n",
       "<table border=\"1\" class=\"dataframe\">\n",
       "  <thead>\n",
       "    <tr style=\"text-align: right;\">\n",
       "      <th></th>\n",
       "      <th>mpg</th>\n",
       "      <th>cylinders</th>\n",
       "      <th>displacement</th>\n",
       "      <th>horsepower</th>\n",
       "      <th>weight</th>\n",
       "      <th>acceleration</th>\n",
       "    </tr>\n",
       "  </thead>\n",
       "  <tbody>\n",
       "    <tr>\n",
       "      <th>mpg</th>\n",
       "      <td>1.000000</td>\n",
       "      <td>-0.777618</td>\n",
       "      <td>-0.805127</td>\n",
       "      <td>-0.778427</td>\n",
       "      <td>-0.832244</td>\n",
       "      <td>0.423329</td>\n",
       "    </tr>\n",
       "    <tr>\n",
       "      <th>cylinders</th>\n",
       "      <td>-0.777618</td>\n",
       "      <td>1.000000</td>\n",
       "      <td>0.950823</td>\n",
       "      <td>0.842983</td>\n",
       "      <td>0.897527</td>\n",
       "      <td>-0.504683</td>\n",
       "    </tr>\n",
       "    <tr>\n",
       "      <th>displacement</th>\n",
       "      <td>-0.805127</td>\n",
       "      <td>0.950823</td>\n",
       "      <td>1.000000</td>\n",
       "      <td>0.897257</td>\n",
       "      <td>0.932994</td>\n",
       "      <td>-0.543800</td>\n",
       "    </tr>\n",
       "    <tr>\n",
       "      <th>horsepower</th>\n",
       "      <td>-0.778427</td>\n",
       "      <td>0.842983</td>\n",
       "      <td>0.897257</td>\n",
       "      <td>1.000000</td>\n",
       "      <td>0.864538</td>\n",
       "      <td>-0.689196</td>\n",
       "    </tr>\n",
       "    <tr>\n",
       "      <th>weight</th>\n",
       "      <td>-0.832244</td>\n",
       "      <td>0.897527</td>\n",
       "      <td>0.932994</td>\n",
       "      <td>0.864538</td>\n",
       "      <td>1.000000</td>\n",
       "      <td>-0.416839</td>\n",
       "    </tr>\n",
       "    <tr>\n",
       "      <th>acceleration</th>\n",
       "      <td>0.423329</td>\n",
       "      <td>-0.504683</td>\n",
       "      <td>-0.543800</td>\n",
       "      <td>-0.689196</td>\n",
       "      <td>-0.416839</td>\n",
       "      <td>1.000000</td>\n",
       "    </tr>\n",
       "  </tbody>\n",
       "</table>\n",
       "</div>"
      ],
      "text/plain": [
       "                   mpg  cylinders  displacement  horsepower    weight  \\\n",
       "mpg           1.000000  -0.777618     -0.805127   -0.778427 -0.832244   \n",
       "cylinders    -0.777618   1.000000      0.950823    0.842983  0.897527   \n",
       "displacement -0.805127   0.950823      1.000000    0.897257  0.932994   \n",
       "horsepower   -0.778427   0.842983      0.897257    1.000000  0.864538   \n",
       "weight       -0.832244   0.897527      0.932994    0.864538  1.000000   \n",
       "acceleration  0.423329  -0.504683     -0.543800   -0.689196 -0.416839   \n",
       "\n",
       "              acceleration  \n",
       "mpg               0.423329  \n",
       "cylinders        -0.504683  \n",
       "displacement     -0.543800  \n",
       "horsepower       -0.689196  \n",
       "weight           -0.416839  \n",
       "acceleration      1.000000  "
      ]
     },
     "execution_count": 96,
     "metadata": {},
     "output_type": "execute_result"
    }
   ],
   "source": [
    "df2.drop(['year', 'origin'], axis=1).corr()"
   ]
  },
  {
   "cell_type": "code",
   "execution_count": 97,
   "metadata": {},
   "outputs": [],
   "source": [
    "# Strongly correlated predictors, phenomenon referred to as multicollinearity, \n",
    "# will cause coefficient estimates to be less reliable. \n"
   ]
  },
  {
   "cell_type": "code",
   "execution_count": 98,
   "metadata": {},
   "outputs": [
    {
     "data": {
      "text/html": [
       "<style  type=\"text/css\" >\n",
       "    #T_a8101dda_2301_11e9_a8d9_3c95094620d2row0_col0 {\n",
       "            background-color:  #b40426;\n",
       "        }    #T_a8101dda_2301_11e9_a8d9_3c95094620d2row0_col1 {\n",
       "            background-color:  #4358cb;\n",
       "        }    #T_a8101dda_2301_11e9_a8d9_3c95094620d2row0_col2 {\n",
       "            background-color:  #3e51c5;\n",
       "        }    #T_a8101dda_2301_11e9_a8d9_3c95094620d2row0_col3 {\n",
       "            background-color:  #4358cb;\n",
       "        }    #T_a8101dda_2301_11e9_a8d9_3c95094620d2row0_col4 {\n",
       "            background-color:  #3b4cc0;\n",
       "        }    #T_a8101dda_2301_11e9_a8d9_3c95094620d2row0_col5 {\n",
       "            background-color:  #f7b194;\n",
       "        }    #T_a8101dda_2301_11e9_a8d9_3c95094620d2row1_col0 {\n",
       "            background-color:  #3b4cc0;\n",
       "        }    #T_a8101dda_2301_11e9_a8d9_3c95094620d2row1_col1 {\n",
       "            background-color:  #b40426;\n",
       "        }    #T_a8101dda_2301_11e9_a8d9_3c95094620d2row1_col2 {\n",
       "            background-color:  #be242e;\n",
       "        }    #T_a8101dda_2301_11e9_a8d9_3c95094620d2row1_col3 {\n",
       "            background-color:  #d24b40;\n",
       "        }    #T_a8101dda_2301_11e9_a8d9_3c95094620d2row1_col4 {\n",
       "            background-color:  #c83836;\n",
       "        }    #T_a8101dda_2301_11e9_a8d9_3c95094620d2row1_col5 {\n",
       "            background-color:  #6b8df0;\n",
       "        }    #T_a8101dda_2301_11e9_a8d9_3c95094620d2row2_col0 {\n",
       "            background-color:  #3b4cc0;\n",
       "        }    #T_a8101dda_2301_11e9_a8d9_3c95094620d2row2_col1 {\n",
       "            background-color:  #bd1f2d;\n",
       "        }    #T_a8101dda_2301_11e9_a8d9_3c95094620d2row2_col2 {\n",
       "            background-color:  #b40426;\n",
       "        }    #T_a8101dda_2301_11e9_a8d9_3c95094620d2row2_col3 {\n",
       "            background-color:  #c83836;\n",
       "        }    #T_a8101dda_2301_11e9_a8d9_3c95094620d2row2_col4 {\n",
       "            background-color:  #c12b30;\n",
       "        }    #T_a8101dda_2301_11e9_a8d9_3c95094620d2row2_col5 {\n",
       "            background-color:  #688aef;\n",
       "        }    #T_a8101dda_2301_11e9_a8d9_3c95094620d2row3_col0 {\n",
       "            background-color:  #3b4cc0;\n",
       "        }    #T_a8101dda_2301_11e9_a8d9_3c95094620d2row3_col1 {\n",
       "            background-color:  #d24b40;\n",
       "        }    #T_a8101dda_2301_11e9_a8d9_3c95094620d2row3_col2 {\n",
       "            background-color:  #c83836;\n",
       "        }    #T_a8101dda_2301_11e9_a8d9_3c95094620d2row3_col3 {\n",
       "            background-color:  #b40426;\n",
       "        }    #T_a8101dda_2301_11e9_a8d9_3c95094620d2row3_col4 {\n",
       "            background-color:  #cf453c;\n",
       "        }    #T_a8101dda_2301_11e9_a8d9_3c95094620d2row3_col5 {\n",
       "            background-color:  #4961d2;\n",
       "        }    #T_a8101dda_2301_11e9_a8d9_3c95094620d2row4_col0 {\n",
       "            background-color:  #3b4cc0;\n",
       "        }    #T_a8101dda_2301_11e9_a8d9_3c95094620d2row4_col1 {\n",
       "            background-color:  #c83836;\n",
       "        }    #T_a8101dda_2301_11e9_a8d9_3c95094620d2row4_col2 {\n",
       "            background-color:  #c12b30;\n",
       "        }    #T_a8101dda_2301_11e9_a8d9_3c95094620d2row4_col3 {\n",
       "            background-color:  #cd423b;\n",
       "        }    #T_a8101dda_2301_11e9_a8d9_3c95094620d2row4_col4 {\n",
       "            background-color:  #b40426;\n",
       "        }    #T_a8101dda_2301_11e9_a8d9_3c95094620d2row4_col5 {\n",
       "            background-color:  #85a8fc;\n",
       "        }    #T_a8101dda_2301_11e9_a8d9_3c95094620d2row5_col0 {\n",
       "            background-color:  #f7ba9f;\n",
       "        }    #T_a8101dda_2301_11e9_a8d9_3c95094620d2row5_col1 {\n",
       "            background-color:  #5b7ae5;\n",
       "        }    #T_a8101dda_2301_11e9_a8d9_3c95094620d2row5_col2 {\n",
       "            background-color:  #5572df;\n",
       "        }    #T_a8101dda_2301_11e9_a8d9_3c95094620d2row5_col3 {\n",
       "            background-color:  #3b4cc0;\n",
       "        }    #T_a8101dda_2301_11e9_a8d9_3c95094620d2row5_col4 {\n",
       "            background-color:  #6e90f2;\n",
       "        }    #T_a8101dda_2301_11e9_a8d9_3c95094620d2row5_col5 {\n",
       "            background-color:  #b40426;\n",
       "        }</style>  \n",
       "<table id=\"T_a8101dda_2301_11e9_a8d9_3c95094620d2\" > \n",
       "<thead>    <tr> \n",
       "        <th class=\"blank level0\" ></th> \n",
       "        <th class=\"col_heading level0 col0\" >mpg</th> \n",
       "        <th class=\"col_heading level0 col1\" >cylinders</th> \n",
       "        <th class=\"col_heading level0 col2\" >displacement</th> \n",
       "        <th class=\"col_heading level0 col3\" >horsepower</th> \n",
       "        <th class=\"col_heading level0 col4\" >weight</th> \n",
       "        <th class=\"col_heading level0 col5\" >acceleration</th> \n",
       "    </tr></thead> \n",
       "<tbody>    <tr> \n",
       "        <th id=\"T_a8101dda_2301_11e9_a8d9_3c95094620d2level0_row0\" class=\"row_heading level0 row0\" >mpg</th> \n",
       "        <td id=\"T_a8101dda_2301_11e9_a8d9_3c95094620d2row0_col0\" class=\"data row0 col0\" >1.0</td> \n",
       "        <td id=\"T_a8101dda_2301_11e9_a8d9_3c95094620d2row0_col1\" class=\"data row0 col1\" >-0.78</td> \n",
       "        <td id=\"T_a8101dda_2301_11e9_a8d9_3c95094620d2row0_col2\" class=\"data row0 col2\" >-0.81</td> \n",
       "        <td id=\"T_a8101dda_2301_11e9_a8d9_3c95094620d2row0_col3\" class=\"data row0 col3\" >-0.78</td> \n",
       "        <td id=\"T_a8101dda_2301_11e9_a8d9_3c95094620d2row0_col4\" class=\"data row0 col4\" >-0.83</td> \n",
       "        <td id=\"T_a8101dda_2301_11e9_a8d9_3c95094620d2row0_col5\" class=\"data row0 col5\" >0.42</td> \n",
       "    </tr>    <tr> \n",
       "        <th id=\"T_a8101dda_2301_11e9_a8d9_3c95094620d2level0_row1\" class=\"row_heading level0 row1\" >cylinders</th> \n",
       "        <td id=\"T_a8101dda_2301_11e9_a8d9_3c95094620d2row1_col0\" class=\"data row1 col0\" >-0.78</td> \n",
       "        <td id=\"T_a8101dda_2301_11e9_a8d9_3c95094620d2row1_col1\" class=\"data row1 col1\" >1.0</td> \n",
       "        <td id=\"T_a8101dda_2301_11e9_a8d9_3c95094620d2row1_col2\" class=\"data row1 col2\" >0.95</td> \n",
       "        <td id=\"T_a8101dda_2301_11e9_a8d9_3c95094620d2row1_col3\" class=\"data row1 col3\" >0.84</td> \n",
       "        <td id=\"T_a8101dda_2301_11e9_a8d9_3c95094620d2row1_col4\" class=\"data row1 col4\" >0.9</td> \n",
       "        <td id=\"T_a8101dda_2301_11e9_a8d9_3c95094620d2row1_col5\" class=\"data row1 col5\" >-0.5</td> \n",
       "    </tr>    <tr> \n",
       "        <th id=\"T_a8101dda_2301_11e9_a8d9_3c95094620d2level0_row2\" class=\"row_heading level0 row2\" >displacement</th> \n",
       "        <td id=\"T_a8101dda_2301_11e9_a8d9_3c95094620d2row2_col0\" class=\"data row2 col0\" >-0.81</td> \n",
       "        <td id=\"T_a8101dda_2301_11e9_a8d9_3c95094620d2row2_col1\" class=\"data row2 col1\" >0.95</td> \n",
       "        <td id=\"T_a8101dda_2301_11e9_a8d9_3c95094620d2row2_col2\" class=\"data row2 col2\" >1.0</td> \n",
       "        <td id=\"T_a8101dda_2301_11e9_a8d9_3c95094620d2row2_col3\" class=\"data row2 col3\" >0.9</td> \n",
       "        <td id=\"T_a8101dda_2301_11e9_a8d9_3c95094620d2row2_col4\" class=\"data row2 col4\" >0.93</td> \n",
       "        <td id=\"T_a8101dda_2301_11e9_a8d9_3c95094620d2row2_col5\" class=\"data row2 col5\" >-0.54</td> \n",
       "    </tr>    <tr> \n",
       "        <th id=\"T_a8101dda_2301_11e9_a8d9_3c95094620d2level0_row3\" class=\"row_heading level0 row3\" >horsepower</th> \n",
       "        <td id=\"T_a8101dda_2301_11e9_a8d9_3c95094620d2row3_col0\" class=\"data row3 col0\" >-0.78</td> \n",
       "        <td id=\"T_a8101dda_2301_11e9_a8d9_3c95094620d2row3_col1\" class=\"data row3 col1\" >0.84</td> \n",
       "        <td id=\"T_a8101dda_2301_11e9_a8d9_3c95094620d2row3_col2\" class=\"data row3 col2\" >0.9</td> \n",
       "        <td id=\"T_a8101dda_2301_11e9_a8d9_3c95094620d2row3_col3\" class=\"data row3 col3\" >1.0</td> \n",
       "        <td id=\"T_a8101dda_2301_11e9_a8d9_3c95094620d2row3_col4\" class=\"data row3 col4\" >0.86</td> \n",
       "        <td id=\"T_a8101dda_2301_11e9_a8d9_3c95094620d2row3_col5\" class=\"data row3 col5\" >-0.69</td> \n",
       "    </tr>    <tr> \n",
       "        <th id=\"T_a8101dda_2301_11e9_a8d9_3c95094620d2level0_row4\" class=\"row_heading level0 row4\" >weight</th> \n",
       "        <td id=\"T_a8101dda_2301_11e9_a8d9_3c95094620d2row4_col0\" class=\"data row4 col0\" >-0.83</td> \n",
       "        <td id=\"T_a8101dda_2301_11e9_a8d9_3c95094620d2row4_col1\" class=\"data row4 col1\" >0.9</td> \n",
       "        <td id=\"T_a8101dda_2301_11e9_a8d9_3c95094620d2row4_col2\" class=\"data row4 col2\" >0.93</td> \n",
       "        <td id=\"T_a8101dda_2301_11e9_a8d9_3c95094620d2row4_col3\" class=\"data row4 col3\" >0.86</td> \n",
       "        <td id=\"T_a8101dda_2301_11e9_a8d9_3c95094620d2row4_col4\" class=\"data row4 col4\" >1.0</td> \n",
       "        <td id=\"T_a8101dda_2301_11e9_a8d9_3c95094620d2row4_col5\" class=\"data row4 col5\" >-0.42</td> \n",
       "    </tr>    <tr> \n",
       "        <th id=\"T_a8101dda_2301_11e9_a8d9_3c95094620d2level0_row5\" class=\"row_heading level0 row5\" >acceleration</th> \n",
       "        <td id=\"T_a8101dda_2301_11e9_a8d9_3c95094620d2row5_col0\" class=\"data row5 col0\" >0.42</td> \n",
       "        <td id=\"T_a8101dda_2301_11e9_a8d9_3c95094620d2row5_col1\" class=\"data row5 col1\" >-0.5</td> \n",
       "        <td id=\"T_a8101dda_2301_11e9_a8d9_3c95094620d2row5_col2\" class=\"data row5 col2\" >-0.54</td> \n",
       "        <td id=\"T_a8101dda_2301_11e9_a8d9_3c95094620d2row5_col3\" class=\"data row5 col3\" >-0.69</td> \n",
       "        <td id=\"T_a8101dda_2301_11e9_a8d9_3c95094620d2row5_col4\" class=\"data row5 col4\" >-0.42</td> \n",
       "        <td id=\"T_a8101dda_2301_11e9_a8d9_3c95094620d2row5_col5\" class=\"data row5 col5\" >1.0</td> \n",
       "    </tr></tbody> \n",
       "</table> "
      ],
      "text/plain": [
       "<pandas.io.formats.style.Styler at 0x1fbc6a55dd8>"
      ]
     },
     "execution_count": 98,
     "metadata": {},
     "output_type": "execute_result"
    }
   ],
   "source": [
    "df2.drop(['year', 'origin'], axis=1).corr(method='pearson').style.format(\"{:.2}\").background_gradient(cmap=plt.get_cmap('coolwarm'), axis=1)"
   ]
  },
  {
   "cell_type": "code",
   "execution_count": 99,
   "metadata": {},
   "outputs": [],
   "source": [
    "# Let's remove the features that have correlation higher than 0.9\n"
   ]
  },
  {
   "cell_type": "code",
   "execution_count": 100,
   "metadata": {},
   "outputs": [],
   "source": [
    "def trimm_correlated(df_in, threshold):\n",
    "    df_corr = df_in.corr(method='pearson', min_periods=1)\n",
    "    df_not_correlated = ~(df_corr.mask(np.eye(len(df_corr), dtype=bool)).abs() > threshold).any()\n",
    "    un_corr_idx = df_not_correlated.loc[df_not_correlated[df_not_correlated.index] == True].index\n",
    "    df_out = df_in[un_corr_idx]\n",
    "    return df_out"
   ]
  },
  {
   "cell_type": "code",
   "execution_count": 101,
   "metadata": {},
   "outputs": [
    {
     "data": {
      "text/html": [
       "<div>\n",
       "<style scoped>\n",
       "    .dataframe tbody tr th:only-of-type {\n",
       "        vertical-align: middle;\n",
       "    }\n",
       "\n",
       "    .dataframe tbody tr th {\n",
       "        vertical-align: top;\n",
       "    }\n",
       "\n",
       "    .dataframe thead th {\n",
       "        text-align: right;\n",
       "    }\n",
       "</style>\n",
       "<table border=\"1\" class=\"dataframe\">\n",
       "  <thead>\n",
       "    <tr style=\"text-align: right;\">\n",
       "      <th></th>\n",
       "      <th>mpg</th>\n",
       "      <th>horsepower</th>\n",
       "      <th>acceleration</th>\n",
       "      <th>year</th>\n",
       "      <th>origin</th>\n",
       "    </tr>\n",
       "  </thead>\n",
       "  <tbody>\n",
       "    <tr>\n",
       "      <th>1</th>\n",
       "      <td>18.0</td>\n",
       "      <td>130.0</td>\n",
       "      <td>12.0</td>\n",
       "      <td>70</td>\n",
       "      <td>1</td>\n",
       "    </tr>\n",
       "    <tr>\n",
       "      <th>2</th>\n",
       "      <td>15.0</td>\n",
       "      <td>165.0</td>\n",
       "      <td>11.5</td>\n",
       "      <td>70</td>\n",
       "      <td>1</td>\n",
       "    </tr>\n",
       "    <tr>\n",
       "      <th>3</th>\n",
       "      <td>18.0</td>\n",
       "      <td>150.0</td>\n",
       "      <td>11.0</td>\n",
       "      <td>70</td>\n",
       "      <td>1</td>\n",
       "    </tr>\n",
       "    <tr>\n",
       "      <th>4</th>\n",
       "      <td>16.0</td>\n",
       "      <td>150.0</td>\n",
       "      <td>12.0</td>\n",
       "      <td>70</td>\n",
       "      <td>1</td>\n",
       "    </tr>\n",
       "    <tr>\n",
       "      <th>5</th>\n",
       "      <td>17.0</td>\n",
       "      <td>140.0</td>\n",
       "      <td>10.5</td>\n",
       "      <td>70</td>\n",
       "      <td>1</td>\n",
       "    </tr>\n",
       "  </tbody>\n",
       "</table>\n",
       "</div>"
      ],
      "text/plain": [
       "    mpg  horsepower  acceleration  year  origin\n",
       "1  18.0       130.0          12.0    70       1\n",
       "2  15.0       165.0          11.5    70       1\n",
       "3  18.0       150.0          11.0    70       1\n",
       "4  16.0       150.0          12.0    70       1\n",
       "5  17.0       140.0          10.5    70       1"
      ]
     },
     "execution_count": 101,
     "metadata": {},
     "output_type": "execute_result"
    }
   ],
   "source": [
    "uncorrelated_factors = trimm_correlated(df2, 0.9)\n",
    "df3 = uncorrelated_factors\n",
    "df3.head()"
   ]
  },
  {
   "cell_type": "code",
   "execution_count": 102,
   "metadata": {},
   "outputs": [],
   "source": [
    "#Now let's apply linear regression on uncorrelated attributes\n",
    "\n",
    "X = df3.drop('mpg', axis=1)\n",
    "y = df3[['mpg']]\n",
    "\n",
    "from sklearn.model_selection import train_test_split\n",
    "\n",
    "X = df3[['horsepower', 'acceleration', 'year', 'origin']]\n",
    "y = df3['mpg']\n",
    "# Split X and y into X_\n",
    "X_train, X_test, y_train, y_test = train_test_split(X, y, test_size=0.25, random_state=1)"
   ]
  },
  {
   "cell_type": "code",
   "execution_count": 103,
   "metadata": {},
   "outputs": [
    {
     "data": {
      "text/plain": [
       "LinearRegression(copy_X=True, fit_intercept=True, n_jobs=1, normalize=False)"
      ]
     },
     "execution_count": 103,
     "metadata": {},
     "output_type": "execute_result"
    }
   ],
   "source": [
    "#Let's train our model\n",
    "\n",
    "from sklearn.linear_model import LinearRegression\n",
    "\n",
    "regression_model = LinearRegression()\n",
    "regression_model.fit(X_train, y_train)"
   ]
  },
  {
   "cell_type": "code",
   "execution_count": 104,
   "metadata": {},
   "outputs": [
    {
     "data": {
      "text/plain": [
       "4.124632961871129"
      ]
     },
     "execution_count": 104,
     "metadata": {},
     "output_type": "execute_result"
    }
   ],
   "source": [
    "#Let's see how our model predicts\n",
    "predictions = regression_model.predict(X_test)\n",
    "rmse = sqrt(mean_squared_error(y_test,predictions))\n",
    "rmse"
   ]
  },
  {
   "cell_type": "code",
   "execution_count": 105,
   "metadata": {},
   "outputs": [
    {
     "data": {
      "text/plain": [
       "<matplotlib.collections.PathCollection at 0x1fbc6b37908>"
      ]
     },
     "execution_count": 105,
     "metadata": {},
     "output_type": "execute_result"
    },
    {
     "data": {
      "image/png": "[encoded data removed]",
      "text/plain": [
       "<Figure size 432x288 with 1 Axes>"
      ]
     },
     "metadata": {},
     "output_type": "display_data"
    }
   ],
   "source": [
    "# Let's visualize it\n",
    "plt.scatter(y_test,predictions)\n"
   ]
  },
  {
   "cell_type": "code",
   "execution_count": 106,
   "metadata": {},
   "outputs": [],
   "source": [
    "#Now, let's try applying PCA and compare the results"
   ]
  },
  {
   "cell_type": "code",
   "execution_count": 107,
   "metadata": {},
   "outputs": [],
   "source": [
    "from sklearn.preprocessing import StandardScaler\n",
    "import numpy as np"
   ]
  },
  {
   "cell_type": "code",
   "execution_count": 109,
   "metadata": {},
   "outputs": [],
   "source": [
    "# We load the features X and standardize it.\n",
    "\n",
    "X = df2[['mpg','cylinders','displacement','horsepower','weight','acceleration','year','origin']].apply(pd.to_numeric)\n",
    "X_std = StandardScaler().fit_transform(X)"
   ]
  },
  {
   "cell_type": "code",
   "execution_count": 110,
   "metadata": {},
   "outputs": [],
   "source": [
    "# Now, create the covariance matrix between each variable using this data.\n",
    "# Here the ‘.T’ means we’re transposing the matrix. \n",
    "\n",
    "covariance_matrix = np.cov(X_std.T)"
   ]
  },
  {
   "cell_type": "code",
   "execution_count": 111,
   "metadata": {},
   "outputs": [],
   "source": [
    "# Next, store the eigenvalues and eigenvectors of this matrix in arrays using numpy’s linear algebra library, ‘linalg’.\n",
    "\n",
    "eig_vals, eig_vecs = np.linalg.eig(covariance_matrix)"
   ]
  },
  {
   "cell_type": "code",
   "execution_count": 112,
   "metadata": {},
   "outputs": [
    {
     "name": "stdout",
     "output_type": "stream",
     "text": [
      "[0.6719840378371837, 0.11795790771191646, 0.10145545586285172, 0.06076949210390799, 0.022853320959226764, 0.014290240775881233, 0.0039961924702568005, 0.00669335227877537]\n"
     ]
    }
   ],
   "source": [
    "# Finally, calculate the percentage of the variance that each variable explains using simple statistics. \n",
    "\n",
    "total_var = sum(eig_vals)\n",
    "explained_var = [(i / total_var) for i in eig_vals]\n",
    "print(explained_var)"
   ]
  },
  {
   "cell_type": "code",
   "execution_count": 113,
   "metadata": {},
   "outputs": [],
   "source": [
    "# Using these values, we can determine that the first, second, and third variables (mpg, cylinders, displacement)\n",
    "# are most essential to the model. Now, further tests for prediction must be ran before we can begin eliminating variables,\n",
    "# but this gives us a great intuition of how to begin constructing the most effective model for predicting mpg.  "
   ]
  },
  {
   "cell_type": "code",
   "execution_count": 115,
   "metadata": {},
   "outputs": [],
   "source": [
    "from sklearn.decomposition import PCA\n",
    "from sklearn.preprocessing import StandardScaler\n",
    "\n",
    "X = df2[['mpg','cylinders','displacement','horsepower','weight','acceleration','year','origin']].apply(pd.to_numeric)\n",
    "X_std = StandardScaler().fit_transform(X)"
   ]
  },
  {
   "cell_type": "code",
   "execution_count": 116,
   "metadata": {},
   "outputs": [],
   "source": [
    "# Next, we’ll use the ‘PCA’ class from sklearn to find our principle components and then fit this to our model."
   ]
  },
  {
   "cell_type": "code",
   "execution_count": 117,
   "metadata": {},
   "outputs": [
    {
     "data": {
      "text/plain": [
       "PCA(copy=True, iterated_power='auto', n_components=3, random_state=None,\n",
       "  svd_solver='auto', tol=0.0, whiten=False)"
      ]
     },
     "execution_count": 117,
     "metadata": {},
     "output_type": "execute_result"
    }
   ],
   "source": [
    "pca = PCA(n_components=3)\n",
    "pca.fit(X_std)"
   ]
  },
  {
   "cell_type": "code",
   "execution_count": 118,
   "metadata": {},
   "outputs": [],
   "source": [
    "# To confirm our results, PCA has an attribute called ‘explained_variance_ratio’ \n",
    "# which is the final step that we manually calculated in PCA method 1. \n",
    "# However, the attribute will return the percentage of variance explained by the each of the three \n",
    "# optimal principle components since we set ‘n_components =3’."
   ]
  },
  {
   "cell_type": "code",
   "execution_count": 119,
   "metadata": {},
   "outputs": [
    {
     "name": "stdout",
     "output_type": "stream",
     "text": [
      "[0.67198404 0.11795791 0.10145546]\n"
     ]
    }
   ],
   "source": [
    "print(pca.explained_variance_ratio_)"
   ]
  },
  {
   "cell_type": "code",
   "execution_count": 120,
   "metadata": {},
   "outputs": [],
   "source": [
    "# As expected, this results in first, second, and third variables just as we identified in the covariance method.\n",
    "# Since, these three features (mpg, cylinders, displacement) are the most correlated they may cause multicollinearity.\n",
    "# We should apply feature reduction on these attributes.\n",
    "\n"
   ]
  },
  {
   "cell_type": "code",
   "execution_count": null,
   "metadata": {},
   "outputs": [],
   "source": []
  }
 ],
 "metadata": {
  "kernelspec": {
   "display_name": "Python 3",
   "language": "python",
   "name": "python3"
  },
  "language_info": {
   "codemirror_mode": {
    "name": "ipython",
    "version": 3
   },
   "file_extension": ".py",
   "mimetype": "text/x-python",
   "name": "python",
   "nbconvert_exporter": "python",
   "pygments_lexer": "ipython3",
   "version": "3.6.5"
  }
 },
 "nbformat": 4,
 "nbformat_minor": 2
}
